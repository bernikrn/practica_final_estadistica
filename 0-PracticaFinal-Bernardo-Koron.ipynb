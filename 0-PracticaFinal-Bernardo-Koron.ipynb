{
 "cells": [
  {
   "cell_type": "markdown",
   "metadata": {},
   "source": [
    "# Practica final de Estadistica de Bernardo Koron"
   ]
  },
  {
   "cell_type": "code",
   "execution_count": null,
   "metadata": {},
   "outputs": [],
   "source": [
    "library(ggplot2)\n",
    "library(magrittr)\n",
    "options(repr.plot.height=8,repr.plot.width=16)"
   ]
  },
  {
   "cell_type": "markdown",
   "metadata": {},
   "source": [
    "Cargar los datos en un dataframe llamado: airbnb"
   ]
  },
  {
   "cell_type": "code",
   "execution_count": null,
   "metadata": {},
   "outputs": [],
   "source": [
    "airbnb<-read.csv('data//airbnb.csv',sep = ',', stringsAsFactors = F)"
   ]
  },
  {
   "cell_type": "markdown",
   "metadata": {},
   "source": [
    "Mostrar las primeras 6 filas del dataframe"
   ]
  },
  {
   "cell_type": "code",
   "execution_count": null,
   "metadata": {
    "scrolled": true
   },
   "outputs": [],
   "source": [
    "head(airbnb)"
   ]
  },
  {
   "cell_type": "markdown",
   "metadata": {},
   "source": [
    "Renombrar las columnas de la siguiente forma:\n",
    "\n",
    "| Nombre original | Nuevo nombre |\n",
    "| - | - |\n",
    "| Zipcode | CodigoPostal |\n",
    "| Neighbourhood.Cleansed | Barrio |\n",
    "| Property.Type\t| TipoPropiedad |\n",
    "| Room.Type | TipoAlquiler |\n",
    "| Accommodates | MaxOcupantes |\n",
    "| Bathrooms\t| NumBanyos |\n",
    "| Bedrooms\t| NumDormitorios |\n",
    "| Beds\t|  NumCamas |\n",
    "| Bed.Type\t| TipoCama |\n",
    "| Amenities | Comodidades |\n",
    "| Square.Feet | PiesCuadrados |\n",
    "| Price\t| Precio |\n",
    "| Review.Scores.Rating | Puntuacion |"
   ]
  },
  {
   "cell_type": "code",
   "execution_count": null,
   "metadata": {},
   "outputs": [],
   "source": [
    "newnames<-c(\"CodigoPostal\",\"Barrio\",\"TipoPropiedad\",\"TipoAlquiler\",\"MaxOcupantes\",\"NumBanyos\",\n",
    "\"NumDormitorios\",\"NumCamas\",\"TipoCama\",\"Comodidades\",\"PiesCuadrados\",\"Precio\",\"Puntuacion\")"
   ]
  },
  {
   "cell_type": "code",
   "execution_count": null,
   "metadata": {},
   "outputs": [],
   "source": [
    "colnames(airbnb) <- newnames"
   ]
  },
  {
   "cell_type": "markdown",
   "metadata": {},
   "source": [
    "Crea una nueva columna llamada MetrosCuadrados a partir de la columna PiesCuadrados.\n",
    "\n",
    "Ayuda: 1 pie cuadrado son 0,092903 metros cuadrdados"
   ]
  },
  {
   "cell_type": "code",
   "execution_count": null,
   "metadata": {},
   "outputs": [],
   "source": [
    "airbnb$MetrosCuadrados <- airbnb$PiesCuadrados * 0.092903"
   ]
  },
  {
   "cell_type": "markdown",
   "metadata": {},
   "source": [
    "Miremos el código postal. Es una variable con entradas erroneas.\n",
    "Hay valores como '', '-'  y '28' que deberían ser considerados como NA.\n",
    "Así mismo también debería ser NA todos los que no compiencen por 28, ya que estamos con códigos postales de Madrid\n",
    "\n",
    "El código postal 28002, 28004 y 28051 tienen entradas repetidas. \n",
    "Por ejemplo las entradas 28002\\n20882 deberían ir dnetro de 28002\n",
    "\n",
    "El codigo 2804 debería ser 28004, 2805 deberia ser 28005 y 2815 juncto con 2815 debería ser 28015\n",
    "\n",
    "Limpia los datos de la columna Codigo Postal"
   ]
  },
  {
   "cell_type": "code",
   "execution_count": null,
   "metadata": {},
   "outputs": [],
   "source": [
    "cpFilter <- function(x) {\n",
    "    if (is.na(x)) {\n",
    "        return (NA)\n",
    "    }\n",
    "    if (nchar(substr(x,1,5)) == 4 && substr(x,1,2) == 28){\n",
    "        return(paste0(substr(x,1,2), 0, substr(x,3,4)))\n",
    "    }\n",
    "    if (substr(x,1,5)>=\"28000\" && substr(x,1,5)<=\"28099\" && nchar(substr(x,1,5)) == 5){\n",
    "        return(substr(x,1,5)) \n",
    "    }\n",
    "    return(NA)\n",
    "}\n",
    "\n",
    "airbnb$CodigoPostal <- sapply(airbnb$CodigoPostal, cpFilter)"
   ]
  },
  {
   "cell_type": "markdown",
   "metadata": {},
   "source": [
    "Una vez limpios los datos ¿Cuales son los códigos postales que tenemos? "
   ]
  },
  {
   "cell_type": "code",
   "execution_count": null,
   "metadata": {
    "scrolled": false
   },
   "outputs": [],
   "source": [
    "airbnb$CodigoPostal <- as.factor(airbnb$CodigoPostal)\n",
    "unique(airbnb$CodigoPostal)"
   ]
  },
  {
   "cell_type": "markdown",
   "metadata": {},
   "source": [
    "¿Cuales son los 5 códigos postales con más entradas? ¿Y con menos? ¿Cuantas entradas tienen?"
   ]
  },
  {
   "cell_type": "markdown",
   "metadata": {},
   "source": [
    "¿Cuales son los barrios que hay en el código postal 28012?"
   ]
  },
  {
   "cell_type": "code",
   "execution_count": null,
   "metadata": {},
   "outputs": [],
   "source": [
    "airbnb$CodigoPostal %>% table() %>% sort(decreasing = T) %>% head(5)\n",
    "airbnb$CodigoPostal %>% table() %>% sort(decreasing = F) %>% head(5)"
   ]
  },
  {
   "cell_type": "code",
   "execution_count": null,
   "metadata": {},
   "outputs": [],
   "source": [
    "airbnb[airbnb$CodigoPostal == 28012 & !is.na(airbnb$CodigoPostal) ,\"Barrio\"] %>% unique()"
   ]
  },
  {
   "cell_type": "markdown",
   "metadata": {},
   "source": [
    "¿Cuantas entradas hay en cada uno de esos barrios para el codigo postal 28012?"
   ]
  },
  {
   "cell_type": "code",
   "execution_count": null,
   "metadata": {},
   "outputs": [],
   "source": [
    "airbnb[airbnb$CodigoPostal == 28012 & !is.na(airbnb$CodigoPostal) ,\"Barrio\"] %>%\n",
    "    table() %>% sort(decreasing = T)\n",
    "    "
   ]
  },
  {
   "cell_type": "markdown",
   "metadata": {},
   "source": [
    "¿Cuantos barrios hay en todo el dataset airbnb? ¿Cuales son?"
   ]
  },
  {
   "cell_type": "code",
   "execution_count": null,
   "metadata": {},
   "outputs": [],
   "source": [
    "airbnb$Barrio %>% unique\n",
    "airbnb$Barrio %>% unique %>% length"
   ]
  },
  {
   "cell_type": "markdown",
   "metadata": {},
   "source": [
    "¿Cuales son los 5 barrios que tienen mayor número entradas?"
   ]
  },
  {
   "cell_type": "code",
   "execution_count": null,
   "metadata": {},
   "outputs": [],
   "source": [
    "airbnb$Barrio %>% table() %>% sort(decreasing = T) %>% head(5)"
   ]
  },
  {
   "cell_type": "markdown",
   "metadata": {},
   "source": [
    "¿Cuantos Tipos de Alquiler diferentes hay? ¿Cuales son? ¿Cuantas entradas en el dataframe hay por cada tipo?"
   ]
  },
  {
   "cell_type": "code",
   "execution_count": null,
   "metadata": {},
   "outputs": [],
   "source": [
    "airbnb$TipoAlquiler <- as.factor(airbnb$TipoAlquiler)\n",
    "airbnb$TipoAlquiler %>% unique()\n",
    "airbnb$TipoAlquiler %>% unique() %>% length()\n",
    "airbnb$TipoAlquiler %>% table()"
   ]
  },
  {
   "cell_type": "markdown",
   "metadata": {},
   "source": [
    "Muestra el diagrama de cajas del precio para cada uno de los diferentes Tipos de Alquiler"
   ]
  },
  {
   "cell_type": "code",
   "execution_count": null,
   "metadata": {},
   "outputs": [],
   "source": [
    "ggplot(data=airbnb, aes(x=TipoAlquiler, y=Precio, color=TipoAlquiler))+\n",
    " geom_boxplot()+\n",
    " scale_color_discrete(name=\"Precio\")"
   ]
  },
  {
   "cell_type": "markdown",
   "metadata": {},
   "source": [
    "Cual es el precio medio de alquiler de cada uno, la diferencia que hay ¿es estadísticamente significativa? ¿Con que test lo comprobarías?"
   ]
  },
  {
   "cell_type": "code",
   "execution_count": null,
   "metadata": {},
   "outputs": [],
   "source": [
    "mean_precio_tipo <- aggregate(Precio~TipoAlquiler, airbnb, mean, na.rm=TRUE)\n",
    "mean_precio_tipo"
   ]
  },
  {
   "cell_type": "code",
   "execution_count": null,
   "metadata": {},
   "outputs": [],
   "source": [
    "# Para comparar los tres grupos, primero debemos comprobar si tienen una distribucion normal o no.\n",
    "airbnb$Precio[airbnb$TipoAlquiler == \"Entire home/apt\"] %>% head(5000) %>% shapiro.test()\n",
    "airbnb$Precio[airbnb$TipoAlquiler == \"Private room\"] %>% head(5000) %>% shapiro.test()\n",
    "airbnb$Precio[airbnb$TipoAlquiler == \"Shared room\"] %>% head(5000) %>% shapiro.test()\n"
   ]
  },
  {
   "cell_type": "code",
   "execution_count": null,
   "metadata": {},
   "outputs": [],
   "source": [
    "# Como los p-valor de los tres casos son muy bajos, la distribucion no es normal.\n",
    "# Por lo tanto se utilizara el test de Kruskal Wallis\n",
    "kruskal.test(Precio ~ TipoAlquiler, data = airbnb)"
   ]
  },
  {
   "cell_type": "code",
   "execution_count": null,
   "metadata": {},
   "outputs": [],
   "source": [
    "# Como el p valor es muy bajo, se puede afirmar que la diferencia que hay en los precios, \n",
    "# si es estadisticamente significativa"
   ]
  },
  {
   "cell_type": "markdown",
   "metadata": {},
   "source": [
    "Filtra el dataframe cuyos tipo de alquiler sea  'Entire home/apt' y guardalo en un dataframe llamado \n",
    "*airbnb_entire*.\n",
    "Estas serán las entradas que tienen un alquiler del piso completo."
   ]
  },
  {
   "cell_type": "code",
   "execution_count": null,
   "metadata": {},
   "outputs": [],
   "source": [
    "airbnb_entire <- airbnb[airbnb$TipoAlquiler == \"Entire home/apt\", ]"
   ]
  },
  {
   "cell_type": "markdown",
   "metadata": {},
   "source": [
    "¿Cuales son los 5 barrios que tienen un mayor número de apartamentos enteros en alquiler?\n",
    "Nota: Mirar solo en airbnb_entire. A partir de este punto y hasta que se diga lo contrario partiremos de airbnb_entire."
   ]
  },
  {
   "cell_type": "code",
   "execution_count": null,
   "metadata": {},
   "outputs": [],
   "source": [
    "airbnb_entire$Barrio %>% table() %>% sort(decreasing = T) %>% head(5)"
   ]
  },
  {
   "cell_type": "markdown",
   "metadata": {},
   "source": [
    "¿Cuales son los 5 barrios que tienen un mayor precio medio de alquiler para apartamentos enteros (es decir, del dataframe airbnb_entire)?\n",
    "\n",
    "¿Cual es su precio medio?\n",
    "\n",
    "Ayuda: Usa la función aggregate `aggregate(.~colname,df,mean,na.rm=TRUE)`"
   ]
  },
  {
   "cell_type": "code",
   "execution_count": null,
   "metadata": {},
   "outputs": [],
   "source": [
    "airbnb_entire_agg <- aggregate(Precio~Barrio, airbnb_entire, mean, na.rm=TRUE)\n",
    "\n",
    "airbnb_entire_agg[order(airbnb_entire_agg$Precio, decreasing = TRUE),] %>% head(5)"
   ]
  },
  {
   "cell_type": "markdown",
   "metadata": {},
   "source": [
    "¿Cuantos apartamentos hay en cada uno de esos barrios?\n",
    "\n",
    "Mostrar una dataframe con el nombre del barrio, el precio y el número de entradas.\n",
    "\n",
    "Ayuda: Podeis crear un nuevo dataframe con las columnas \"Barrio\" y \"Freq\" que contenga el número de entradas en cada barrio y hacer un merge con el dataframe del punto anterior."
   ]
  },
  {
   "cell_type": "code",
   "execution_count": null,
   "metadata": {},
   "outputs": [],
   "source": [
    "# Crea DF con la cantidad de entradas de cada barrio\n",
    "airbnb_barrio_freq <- airbnb_entire$Barrio %>% table() %>% as.data.frame()\n",
    "colnames(airbnb_barrio_freq) <- c(\"Barrio\", \"Freq\")"
   ]
  },
  {
   "cell_type": "code",
   "execution_count": null,
   "metadata": {},
   "outputs": [],
   "source": [
    "# Merge de ambos DF\n",
    "airbnb_precio_freq <- merge(airbnb_barrio_freq, airbnb_entire_agg, by=\"Barrio\", all=T)\n",
    "# Ordenasegun precio y se muestra los 5 primeros\n",
    "airbnb_precio_freq[order(airbnb_precio_freq$Precio, decreasing = T),] %>% head(5)"
   ]
  },
  {
   "cell_type": "markdown",
   "metadata": {},
   "source": [
    "Partiendo del dataframe anterior, muestra los 5 barrios con mayor precio, pero que tengan más de 100 entradas de alquiler."
   ]
  },
  {
   "cell_type": "code",
   "execution_count": null,
   "metadata": {},
   "outputs": [],
   "source": [
    "# Barrios con mas de 100 entradas\n",
    "airbnb_precio_freq_100 <- airbnb_precio_freq[airbnb_precio_freq$Freq > 100, ]\n",
    "\n",
    "airbnb_5mayor_precio <- airbnb_precio_freq_100[airbnb_precio_freq_100$Precio %>% order(decreasing=T),] %>% head(5)\n",
    "\n",
    "airbnb_5mayor_precio"
   ]
  },
  {
   "cell_type": "markdown",
   "metadata": {},
   "source": [
    "Dibuja el diagrama de densidad de distribución de los diferentes precios. Serían 5 gráficas, una por cada barrio."
   ]
  },
  {
   "cell_type": "code",
   "execution_count": null,
   "metadata": {},
   "outputs": [],
   "source": [
    "df_5barrios <- airbnb_entire[airbnb_entire$Barrio == \"Recoletos\" |\n",
    "                           airbnb_entire$Barrio == \"Goya\" |\n",
    "                           airbnb_entire$Barrio == \"Sol\" |\n",
    "                           airbnb_entire$Barrio == \"Trafalgar\" |\n",
    "                           airbnb_entire$Barrio == \"Justicia\"\n",
    "                           ,c(\"Barrio\",\"Precio\", \"MetrosCuadrados\")]\n"
   ]
  },
  {
   "cell_type": "code",
   "execution_count": null,
   "metadata": {},
   "outputs": [],
   "source": [
    "ggplot(df_5barrios, aes(x=Precio, color=Barrio)) + geom_density()\n"
   ]
  },
  {
   "cell_type": "markdown",
   "metadata": {},
   "source": [
    "Calcula el tamaño medio, en metros cuadrados, para los 5 barrios anteriores y muestralo en el mismo dataframe junto con el precio y número de entradas"
   ]
  },
  {
   "cell_type": "code",
   "execution_count": null,
   "metadata": {},
   "outputs": [],
   "source": [
    "# Los MetrosCuadrados = 0 se convierten a NA, para calcular el promedio correctamente\n",
    "airbnb_entire_sinm0 <- airbnb_entire[!is.na(airbnb_entire$MetrosCuadrados) & airbnb_entire$MetrosCuadrados > 0 ,]\n",
    "\n",
    "# DF con mean(MetrosCuadrados) por barrio\n",
    "airbnb_m2_agg <- aggregate(MetrosCuadrados~Barrio, airbnb_entire_sinm0, mean, na.rm=TRUE)\n",
    "\n",
    "# DF con Freq, Precio y mean(MetrosCuadrados) de Barrios con mas de 100 entradas\n",
    "airbnb_pfm100 <- merge(x = airbnb_precio_freq_100, y = airbnb_m2_agg, by=\"Barrio\", all.x=T)\n",
    "\n",
    "# Ordena DF por precio\n",
    "airbnb_pfm100 <- airbnb_pfm100[airbnb_pfm100$Precio %>% order(decreasing=T), ]\n",
    "\n",
    "airbnb_pfm100 %>% head(5)\n"
   ]
  },
  {
   "cell_type": "markdown",
   "metadata": {},
   "source": [
    "Dibuja el diagrama de densidad de distribución de los diferentes tamaños de apartamentos. Serían 5 gráficas, una por cada barrio."
   ]
  },
  {
   "cell_type": "code",
   "execution_count": null,
   "metadata": {},
   "outputs": [],
   "source": [
    "# Se eliminan las filas que contienen MetrosCuadrados = 0 y  MetrosCuadrados = NA\n",
    "#df_5barrios_m <- df_5barrios[!is.na(df_5barrios$MetrosCuadrados) & df_5barrios$MetrosCuadrados > 0 ,]\n",
    "df_5barrios_m <- df_5barrios[!is.na(df_5barrios$MetrosCuadrados),]\n",
    "\n",
    "ggplot(df_5barrios_m, aes(x=MetrosCuadrados, color=Barrio))+geom_density()"
   ]
  },
  {
   "cell_type": "markdown",
   "metadata": {},
   "source": [
    "Esta claro que las medias de metros cuadrados de cada uno de estos 5 barrios parecen ser diferentes, pero ¿son estadísticamente diferentes?\n",
    "¿Que test habría que usar para comprobarlo?"
   ]
  },
  {
   "cell_type": "code",
   "execution_count": null,
   "metadata": {},
   "outputs": [],
   "source": [
    "#df_5barrios_m$MetrosCuadrados[df_5barrios_m$Barrio == \"Justicia\"] %>% shapiro.test()\n",
    "\n",
    "shapiro.test(df_5barrios_m$MetrosCuadrados[df_5barrios_m$Barrio == \"Goya\"])$p.value\n",
    "shapiro.test(df_5barrios_m$MetrosCuadrados[df_5barrios_m$Barrio == \"Justicia\"])$p.value\n",
    "shapiro.test(df_5barrios_m$MetrosCuadrados[df_5barrios_m$Barrio == \"Recoletos\"])$p.value\n",
    "shapiro.test(df_5barrios_m$MetrosCuadrados[df_5barrios_m$Barrio == \"Sol\"])$p.value\n",
    "shapiro.test(df_5barrios_m$MetrosCuadrados[df_5barrios_m$Barrio == \"Trafalgar\"])$p.value"
   ]
  },
  {
   "cell_type": "code",
   "execution_count": null,
   "metadata": {},
   "outputs": [],
   "source": [
    "kruskal.test(MetrosCuadrados ~ Barrio, data = df_5barrios_m)"
   ]
  },
  {
   "cell_type": "code",
   "execution_count": null,
   "metadata": {},
   "outputs": [],
   "source": [
    "# Como el p valor es relativamente alto, no podemos afirmar que el resultado sea\n",
    "# estadisticamente significativo"
   ]
  },
  {
   "cell_type": "markdown",
   "metadata": {},
   "source": [
    "Para únicamente los pisos de alquiler en el barrio de Sol:\n",
    "\n",
    "``barrio_sol<-subset(airbnb_entire,Barrio==\"Sol\")``\n",
    "\n",
    "Calcular un modelo lineal que combine alguna de estas variables:\n",
    "* NumBanyos\n",
    "* NumDormitorios\n",
    "* MaxOcupantes\n",
    "* MetrosCuadrados"
   ]
  },
  {
   "cell_type": "code",
   "execution_count": null,
   "metadata": {},
   "outputs": [],
   "source": [
    "barrio_sol<-subset(airbnb_entire,Barrio==\"Sol\")"
   ]
  },
  {
   "cell_type": "markdown",
   "metadata": {},
   "source": [
    "Primero calculamos la correlación para ver como se relacionan estas variables entre sí."
   ]
  },
  {
   "cell_type": "code",
   "execution_count": null,
   "metadata": {},
   "outputs": [],
   "source": [
    "cor(barrio_sol[,c(\"NumBanyos\",\n",
    "                  \"NumDormitorios\",\n",
    "                  \"MaxOcupantes\",\n",
    "                  \"MetrosCuadrados\")]\n",
    "    , use=\"pairwise.complete.obs\")"
   ]
  },
  {
   "cell_type": "markdown",
   "metadata": {},
   "source": [
    "Se observa que la correlación entre el número de dormitorios y los metros cuadrados es sorprendentemente baja.\n",
    "¿Son de fiar esos números?\n",
    "\n",
    "Mediante un histograma o curvas de densidad podemos descartar números que notienen sentido en el dataframe barrio_sol,\n",
    "para tener una matriz de correlación que tenga mayor sentido.\n"
   ]
  },
  {
   "cell_type": "code",
   "execution_count": null,
   "metadata": {},
   "outputs": [],
   "source": [
    "ggplot(data=barrio_sol, aes(x=MetrosCuadrados))+\n",
    "    geom_histogram(bins=40)+\n",
    "    scale_x_continuous(breaks = seq(0, 400, by = 5))\n"
   ]
  },
  {
   "cell_type": "code",
   "execution_count": null,
   "metadata": {},
   "outputs": [],
   "source": [
    "barrio_sol$MetrosCuadrados[barrio_sol$MetrosCuadrados < 20] <- NA"
   ]
  },
  {
   "cell_type": "code",
   "execution_count": null,
   "metadata": {},
   "outputs": [],
   "source": [
    "ggplot(data=barrio_sol, aes(x=MetrosCuadrados))+\n",
    "    geom_histogram(bins=40)+ \n",
    "    scale_x_continuous(breaks = seq(0, 400, by = 5))"
   ]
  },
  {
   "cell_type": "code",
   "execution_count": null,
   "metadata": {},
   "outputs": [],
   "source": [
    "cor(barrio_sol[,c(\"NumBanyos\",\n",
    "                  \"NumDormitorios\",\n",
    "                  \"MaxOcupantes\",\n",
    "                  \"MetrosCuadrados\")]\n",
    "    , use=\"pairwise.complete.obs\")\n"
   ]
  },
  {
   "cell_type": "markdown",
   "metadata": {},
   "source": [
    "Una vez que hayamos filtrado los datos correspondientes calcular el valor o la combinación de valores que mejor nos permite obtener el precio de un inmueble."
   ]
  },
  {
   "cell_type": "code",
   "execution_count": null,
   "metadata": {},
   "outputs": [],
   "source": [
    "model <- lm(data = barrio_sol, formula = Precio ~ NumBanyos + NumDormitorios + MaxOcupantes + MetrosCuadrados)\n",
    "summary(model)"
   ]
  },
  {
   "cell_type": "code",
   "execution_count": null,
   "metadata": {},
   "outputs": [],
   "source": [
    "# Como NumBanyos, MaxOcupantes, MetrosCuadrados tienen un Pr muy elevado por lo que no son representativos\n"
   ]
  },
  {
   "cell_type": "code",
   "execution_count": null,
   "metadata": {},
   "outputs": [],
   "source": [
    "# model <- lm(data = barrio_sol, formula = Precio ~ NumDormitorios)\n",
    "# summary(model)"
   ]
  },
  {
   "cell_type": "markdown",
   "metadata": {},
   "source": [
    "¿Que variable es más fiable para conocer el precio de un inmueble, el número de habitaciones o los metros cuadrados?"
   ]
  },
  {
   "cell_type": "code",
   "execution_count": null,
   "metadata": {},
   "outputs": [],
   "source": [
    "# El numero de habitaciones es mas fiable para conocer el precio del inmuble ya que su Pr es mucho menor\""
   ]
  },
  {
   "cell_type": "markdown",
   "metadata": {},
   "source": [
    "Responde con su correspondiente margen de error del 95%, ¿cuantos euros incrementa el precio del alquiler por cada metro cuadrado extra del piso?"
   ]
  },
  {
   "cell_type": "code",
   "execution_count": null,
   "metadata": {},
   "outputs": [],
   "source": [
    "model_m2 <- lm(data = barrio_sol, formula = Precio ~ MetrosCuadrados)\n",
    "#summary(model_m2)\n",
    "cnf_int_m2<-confint(model_m2)\n",
    "cnf_int_m2"
   ]
  },
  {
   "cell_type": "code",
   "execution_count": null,
   "metadata": {},
   "outputs": [],
   "source": [
    "# Por cada metro cuadrado extra, el precio de alquiler aumenta entre 0,68 y 1,30 "
   ]
  },
  {
   "cell_type": "markdown",
   "metadata": {},
   "source": [
    "Responde con su correspondiente margen de error del 95%, ¿cuantos euros incrementa el precio del alquiler por cada habitación?"
   ]
  },
  {
   "cell_type": "code",
   "execution_count": null,
   "metadata": {},
   "outputs": [],
   "source": [
    "model_h <- lm(data = barrio_sol, formula = Precio ~ NumDormitorios)\n",
    "cnf_int_h<-confint(model_h)\n",
    "cnf_int_h"
   ]
  },
  {
   "cell_type": "code",
   "execution_count": null,
   "metadata": {},
   "outputs": [],
   "source": [
    "# Por cada habitacion, el precio de alquiler aumenta entre 30,5 y 36,22"
   ]
  },
  {
   "cell_type": "markdown",
   "metadata": {},
   "source": [
    "¿Cual es la probabilidad de encontrar, en el barrio de Sol, un apartamento en alquiler con 3 dormitorios?\n",
    "¿Cual es el intervalo de confianza de esa probabilidad?"
   ]
  },
  {
   "cell_type": "code",
   "execution_count": null,
   "metadata": {},
   "outputs": [],
   "source": [
    "n_sol3hab <- barrio_sol[barrio_sol$NumDormitorios == 3,] %>% nrow()\n",
    "n_sol <- barrio_sol %>% nrow()\n",
    "\n",
    "binom.test(n_sol3hab, n_sol)\n",
    "\n",
    "\n",
    "prob <- binom.test(n_sol3hab, n_sol)$estimate\n",
    "conf_int <- binom.test(n_sol3hab, n_sol)$conf.int\n",
    "\n",
    "paste(\"La probabilidad es de\", prob, \"con un intervalo de confianza del 95% de\", conf_int[1], \"y\", conf_int[2])"
   ]
  }
 ],
 "metadata": {
  "kernelspec": {
   "display_name": "R",
   "language": "R",
   "name": "ir"
  },
  "language_info": {
   "codemirror_mode": "r",
   "file_extension": ".r",
   "mimetype": "text/x-r-source",
   "name": "R",
   "pygments_lexer": "r",
   "version": "4.1.0"
  }
 },
 "nbformat": 4,
 "nbformat_minor": 2
}
